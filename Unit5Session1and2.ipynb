{
  "nbformat": 4,
  "nbformat_minor": 0,
  "metadata": {
    "colab": {
      "provenance": []
    },
    "kernelspec": {
      "name": "python3",
      "display_name": "Python 3" 
    },
    "language_info": {
      "name": "python"
    }
  },
  "cells": [
    {
      "cell_type": "markdown",
      "source": [
        "# Dropping magnets"
      ],
      "metadata": {
        "id": "YhH6aukqPlIc"
      }
    },
    {
      "cell_type": "markdown",
      "source": [
        "**NOTE:** We will ask you to submit your notes each time as usual. BUT we will only grade your second set of notes, which should include the full documentation for both weeks of investigation. Your first week's submission will just be graded for participation.\n",
        "\n",
        "As usual, you may need to run the code cell below to mount your Google Drive.\n"
      ],
      "metadata": {
        "id": "f0TeR5IFHHQD"
      }
    },
    {
      "cell_type": "code",
      "source": [
        "#start up\n",
        "\n",
        "from google.colab import drive\n",
        "drive.mount('/content/drive')"
      ],
      "metadata": {
        "id": "AJdqi2AxPn2q",
        "colab": {
          "base_uri": "https://localhost:8080/"
        },
        "outputId": "7ed60633-590f-4026-97d8-95f4b40e9a37"
      },
      "execution_count": null,
      "outputs": [
        {
          "output_type": "stream",
          "name": "stdout",
          "text": [
            "Mounted at /content/drive\n"
          ]
        }
      ]
    },
    {
      "cell_type": "markdown",
      "source": [
        "In the code cell below, fill in the \"...\" with the directory information where your utilities file is located on your Drive. For example, if your file is in a folder called Colab Notebooks, you would change the code cell to be:\n",
        "\n",
        "`%run \"/content/drive/My Drive/Colab Notebooks/utilities.ipynb`\n"
      ],
      "metadata": {
        "id": "v-GVtBnF43-b"
      }
    },
    {
      "cell_type": "code",
      "source": [
        "%run \"/content/drive/My Drive/.../utilities.ipynb\""
      ],
      "metadata": {
        "id": "0jVNG0tf44K2"
      },
      "execution_count": null,
      "outputs": []
    },
    {
      "cell_type": "markdown",
      "source": [
        "# Learning goals\n",
        "\n",
        "By the end of this unit, you should be able to:\n",
        "* Design high-precision experiments to build models, including identifying interesting variables to test, variables to control, and ways to reduce uncertainty and systematics.\n",
        "* Manage time by conducting pilot experiments, plotting as you go, and reflecting on the measurements and data throughout.\n",
        "* Motivate all research questions, conclusions, and interpretations with supporting data.\n",
        "* Provide positive and constructive feedback when evaluating peers’ work."
      ],
      "metadata": {
        "id": "g6vn80J4NBxk"
      }
    },
    {
      "cell_type": "markdown",
      "source": [
        "## Group organization\n",
        "\n",
        "We will form new groups for lab this week. To help you get to know each other, and to ensure effective collaboration and fairness, group members should discuss and write down the answers to the following questions in order to establish a “Partner Agreement.”\n",
        "\n",
        "Who are your Group Members and how do they prefer to be referred to (nicknames, pronouns, etc.)?\n",
        "\n",
        "\n"
      ],
      "metadata": {
        "id": "eBznM3gz7SM2"
      }
    },
    {
      "cell_type": "markdown",
      "source": [
        "**[Group members' info here]**"
      ],
      "metadata": {
        "id": "pdcbc0HQExFa"
      }
    },
    {
      "cell_type": "markdown",
      "source": [
        "Discuss with your partners your goals for the rest of the semester. How do your goals compare and how can you each support each other’s goals. Can you agree on a collective goal for the group (e.g. to ensure everyone gets an A, to have fun, to provide a physics study group)?  Establish your collective purpose and record it below.\n",
        "\n"
      ],
      "metadata": {
        "id": "3R9JKupaE23l"
      }
    },
    {
      "cell_type": "markdown",
      "source": [
        "**[Your collective purpose here]**"
      ],
      "metadata": {
        "id": "hqi1i7LyE5VD"
      }
    },
    {
      "cell_type": "markdown",
      "source": [
        "To complete each lab a number of distinct tasks will need to be completed by individual group members or collaboratively by the group as a whole. These tasks include, but are not necessarily limited to, setting up equipment, collecting data, taking notes, and performing analysis, and managing the group. The tasks each of you spend the most time on will also likely be the ones you learn the most about and grow the most in your ability to perform. How will you ensure each member has an equitable role and is able to be involved in all aspects of the work they’re interested?"
      ],
      "metadata": {
        "id": "PSWm0Y2NE65t"
      }
    },
    {
      "cell_type": "markdown",
      "source": [
        "**[Your group's plan here]**"
      ],
      "metadata": {
        "id": "9VDQ0Wj9E8TF"
      }
    },
    {
      "cell_type": "markdown",
      "source": [
        "# What is an oscilloscope?\n",
        "\n",
        "An oscilloscope is [a fancy voltmeter](http://hyperphysics.phy-astr.gsu.edu/hbase/Electronic/oscope.html).\n",
        "\n",
        "The digital multimeters you used to measure voltage differences in Unit 4 displayed the voltage measurement as it came in -- one number at a time. This is fine when we're using a battery or DC power supply, but often we'll have situations where the value changes quickly or steadily over time and we want to keep track of those changing values. An oscilloscope displays a record (or trace) of the measured voltage difference over time. The display shows a graph of the measured voltage difference on the vertical axis (or y-axis) and time on the horizontal axis (or x-axis).\n",
        "\n",
        "In this lab, we'll be exploring a phenomenon where the voltage through a device changes quickly from zero to some non-zero value. We can either set up the oscilloscope to constantly display measurements in real time or we can ask it to display a set of measurements that pass some criteria (called *triggering*). For this lab, we'll want to set up the oscilloscope to *trigger* (i.e., collect data) when the voltage difference changes suddenly past some threshold (called a *trigger level*).\n",
        "\n",
        "See the **Oscilloscope Settings** and **Oscilloscope FAQs** sections at the end of this document for details about setting up the oscilloscope. As you set it up, check in with other groups, ask each other for help, and lend support to others. Your instructor is also available to help but there are more of you than there are instructors, and these devices have a lot of buttons, so help each other out!"
      ],
      "metadata": {
        "id": "DrrwDMQiFL5F"
      }
    },
    {
      "cell_type": "markdown",
      "source": [
        "# Dropping magnets and measuring voltage\n",
        "\n",
        "Science is often executed in small pieces until larger meaning can be obtained. In this unit, you will be investigating individual pieces of a larger puzzle to build towards a collective model. **You will have two sessions to carry out and extend your investigation.**\n",
        "\n",
        "The context is to explore the impact of a magnet falling through a coil of wire. Set up your apparatus as per the instructions at the end of this document. Your TA will draw the circuit diagram for this set up on the board. Brainstorm with your group about all the possible variables that affect the signal observed on the oscilloscope and things you can measure about that signal."
      ],
      "metadata": {
        "id": "W96S8Nb-IUzo"
      }
    },
    {
      "cell_type": "markdown",
      "source": [
        "**[Your group's brainstorm list here]**"
      ],
      "metadata": {
        "id": "fle_D2SRJbGc"
      }
    },
    {
      "cell_type": "markdown",
      "source": [
        "**Note: Magnets should be seen and not heard.** Please use one of the rubber buckets to catch the magnet.\n",
        "\n",
        "In your group, devise a plan to qualitatively *and* quantitatively test the effects of *one* of the variables. You may use any equipment or measuring devices that are available in the lab and any additional equipment that has been brought in for this lab (for example, cell phones have surprisingly precise magnetic field sensors! We recommend the Physics Toolbox Sensor Suite or PhyPhox apps that are available for iPhone and Android). Feel free to get creative!\n",
        "\n",
        "### Documenting a plan\n",
        "\n",
        "Document your plan below with answers to the following questions:\n",
        "* What variable are you testing? What other variables might impact your results and how will you control or measure them?\n",
        "* How will you analyze your data? What will a plot of your results look like and how will you quantify effects (e.g., comparing measurements with $t^\\prime$ values or comparing data to some fit model)?\n",
        "* What are your (qualitative) predictions for how that variable will affect the signal seen on the oscilloscope? (e.g., more of this variable will broaden the signal, or less of this variable will make a taller signal)\n",
        "* What are the major sources of uncertainty and how will you quantify and minimize them?"
      ],
      "metadata": {
        "id": "4YuLoifwJeBS"
      }
    },
    {
      "cell_type": "markdown",
      "source": [
        "**[Your plan here]**"
      ],
      "metadata": {
        "id": "lziDhJNWJhi6"
      }
    },
    {
      "cell_type": "markdown",
      "source": [
        "### Carrying out and improving your plan\n",
        "\n",
        "Carry out your plan and document your analysis and any iterations or updates to your plan below. As with last week, plot and analyze data as you go!"
      ],
      "metadata": {
        "id": "k_P2pzwOK01e"
      }
    },
    {
      "cell_type": "code",
      "source": [
        "#Create as many code cells as you need"
      ],
      "metadata": {
        "id": "-JI5o1rx7Yq8"
      },
      "execution_count": null,
      "outputs": []
    },
    {
      "cell_type": "markdown",
      "source": [
        "**[Your iterations and updates here]**"
      ],
      "metadata": {
        "id": "AHxsNSLt7kck"
      }
    },
    {
      "cell_type": "code",
      "source": [
        "#More analysis here maybe"
      ],
      "metadata": {
        "id": "ex2E4Wcd7n4e"
      },
      "execution_count": null,
      "outputs": []
    },
    {
      "cell_type": "markdown",
      "source": [
        "# Iterating and extending\n",
        "\n",
        "Throughout the two lab sessions, continue documenting your investigative process. Use your evidence to propose several possible models for whether and how your variable affects aspects of the signal and compare your data to each model. Justify each model that you develop using your previously collected data. Use the model(s) to make a prediction(s) about a new result and design and carry out investigations to test those predictions. Iteratively build a body of evidence that rules out possibilities and provides support for other possibilities."
      ],
      "metadata": {
        "id": "3nFDEttp81-w"
      }
    },
    {
      "cell_type": "markdown",
      "source": [
        "**[Your ongoing train of thought documentation of your various investigations should keep getting created here and below]**"
      ],
      "metadata": {
        "id": "DCr9kWKu4VTu"
      }
    },
    {
      "cell_type": "code",
      "source": [
        "#Create as many of these as necessary"
      ],
      "metadata": {
        "id": "0sGC5L8l9GuG"
      },
      "execution_count": null,
      "outputs": []
    },
    {
      "cell_type": "markdown",
      "source": [
        "At the end of the second session, you will give a two to three minute presentation about your investigations to the whole section. In your presentation, you should provide:\n",
        "\n",
        "* a clear claim (whether a positive, negative, or null result)\n",
        "* your evidence in support of that claim,\n",
        "* any evidence that contradicts that claim."
      ],
      "metadata": {
        "id": "OEvVzNVJPW75"
      }
    },
    {
      "cell_type": "markdown",
      "source": [
        "# Circuit set up\n",
        "\n",
        "Your TA will draw a circuit diagram on the board to represent the set up for the lab. In the diagram, you should only see two circuit components: a coil and an oscilloscope. The coil is connected directly to the oscilloscope so that the oscilloscope reads the voltage difference across the coil.\n",
        "\n",
        "## Oscilloscope settings\n",
        "\n",
        "* Use the **Scale** knobs to change the scale for the horizontal axis (time) and vertical axis (voltage). The separation between the major grid lines is given on the bottom in the colors corresponding to each channel. These are good things to keep note of in your lab notes!\n",
        "  * The magnet takes less than a second to fall, so the time divisions should be on the order of milliseconds (50 ms).\n",
        "  * The height of the voltage peak is on the order of 100 mV so voltage divisions should be 50 mV.\n",
        "  *  You can also adjust the position of the signal with the **Position** knobs.\n",
        "\n",
        "* The oscilloscope will need to be set to observe and freeze the signal when the magnet falls through the coil. First, we need to tell it when to *trigger*:\n",
        "  * Triggering is the process of starting a \"sweep\" of the oscilloscope. The oscilloscope waits for the voltage difference to pass through a triggering voltage before beginning a new sweep.\n",
        "  * We want the triggering voltage to be high enough to avoid triggering on noise but low enough to detect the induced voltage difference from the test.\n",
        "  * The triggering voltage is adjusted via the knob labeled **Trigger**.\n",
        "  * The oscilloscope allows you to set various properties associated with the trigger. Start with the trigger type set to **Edge** and the trigger mode set (second page of the trigger menu) to **Normal**.\n",
        "* Second, we need it the signal to freeze on the screen once it's been triggered:\n",
        "  * For this, we'll use the **Single** button on the upper right-hand corner of the oscilloscope. Press it and make sure it's green before you conduct a test (green means it is actively measuring).\n",
        "  * When the triggering voltage is reached, it should turn red and freeze the trial on the screen of the oscilloscope (red means it is no longer actively measuring).\n",
        "\n",
        "## Oscilloscope FAQs\n",
        "\n",
        "**What is this thing showing me?**\n",
        "\n",
        "The grid on the oscilloscope shows the voltage difference in the vertical direction and time in the horizontal direction. It is measuring the voltage difference between the ends of the wires that you connect to each Channel.\n",
        "\n",
        "**I can’t see anything or I don't see what I expected. What do I do?**\n",
        "\n",
        "Some things to try:\n",
        "* Press **Autoset**\n",
        "* You may not have it set to display the channel you want. Turn on channel 1 by pressing the yellow **1** button. You might need to change **Probe 10x Voltage**, which multiplies your measured voltage by a factor of 10, to **Attenuation 1x**.\n",
        "* Still no? Repeat the previous step for Channel 2.\n",
        "* Can we see a known source, such as a function generator? Hook up the oscilloscope to read the voltage difference across the function generator terminals using Channel 2 (make sure grounds are connected). Is that what you expect? If not, there may be something wrong with your circuit. Check with another group or your instructor.\n",
        "\n",
        "**How do I measure voltage differences with an oscilloscope?**\n",
        "\n",
        "* Press **Cursor** and select **Type None**. From the list, use the **Multipurpose** knob to select **Amplitude**. The **Time** button will allow you to simultaneously measure differences in time and voltage.\n",
        "* Adjust *Source* to the channel that you wish to measure (either Channel 1 or Channel 2, whatever the wires from your coil are plugged into).\n",
        "* Use **Cursor 1** and **Cursor 2** to measure differences in voltage and time between the two cursors. Remember to use the difference between the two cursors, not the absolute value of either cursor. We want voltage difference and don't know what either cursor is relative to on its own (we want the pressure drop, not the absolute pressure, going back to the [water pipes analogy](http://hyperphysics.phy-astr.gsu.edu/hbase/electric/watcir.html) from Unit 4).\n",
        "\n",
        "**What I'm seeing makes no sense.**\n",
        "\n",
        "That is not a question. Regardless...\n",
        "* Have you discussed an appropriate time scale with your group? Adjust the timescale manually to an order of magnitude that is appropriate for your test (e.g., how long does it take for the magnet to fall through the coil?).\n",
        "* Still not sure? Go find another group who have a signal that makes sense and check what settings they have.\n",
        "* *Still* not sure? Ask your TA.\n",
        "\n",
        "**How do I measure [insert measurement]?**\n",
        "\n",
        "The oscilloscope has many available tools to assist you in making different measurements. The **Multipurpose** knob and the **Math** button each include multiple capabilities that are available. Search online for the oscilloscope manual (include brand and model number) for additional information or play around and figure it out!\n",
        "\n"
      ],
      "metadata": {
        "id": "2VHqtNtJJEbR"
      }
    }
  ]
}
